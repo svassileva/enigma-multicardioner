{
 "cells": [
  {
   "cell_type": "markdown",
   "metadata": {
    "id": "X4cRE8IbIrIV"
   },
   "source": [
    "If you're opening this Notebook on colab, you will probably need to install 🤗 Transformers and 🤗 Datasets. Uncomment the following cell and run it."
   ]
  },
  {
   "cell_type": "code",
   "execution_count": null,
   "metadata": {},
   "outputs": [],
   "source": [
    "#./tint-runner-0.2-bin/tint/tint.sh -i input.txt -o output.txt -f json --properties annotators=tokenize,ssplit"
   ]
  },
  {
   "cell_type": "code",
   "execution_count": 3,
   "metadata": {
    "executionInfo": {
     "elapsed": 226,
     "status": "ok",
     "timestamp": 1684054260197,
     "user": {
      "displayName": "Sylvia Vassileva",
      "userId": "18356117093765644087"
     },
     "user_tz": -180
    },
    "id": "WW_HDZOrBmEt"
   },
   "outputs": [],
   "source": [
    "import os\n",
    "from subprocess import Popen, PIPE, STDOUT\n",
    "import pandas as pd\n",
    "\n",
    "tint_path = '/mnt/d/school/multicardioner/tint-runner-0.2-bin/tint'\n",
    "text_path = '/mnt/d/school/multicardioner/multicardioner_train+dev+test+bg_240502/track2/cardioccc_dev/it/brat/output'\n",
    "annotations_path = '/mnt/d/school/multicardioner/multicardioner_train+dev+test+bg_240502/track2/cardioccc_dev/it/brat'\n",
    "output_path = '/mnt/d/school/multicardioner/multicardioner_train+dev+test+bg_240502/track2/cardioccc_dev/it/sentences' \n",
    "sents_per_batch = 1 # max number of sentences in each output file\n",
    "is_test = True"
   ]
  },
  {
   "cell_type": "code",
   "execution_count": null,
   "metadata": {},
   "outputs": [],
   "source": [
    "import json\n",
    "from pathlib import Path\n",
    "\n",
    "sentences = []\n",
    "for file_name in os.listdir(text_path):\n",
    "    if '.txt' in file_name: # and 'casos_clinicos_cardiologia129' in file_name:\n",
    "        file_name_no_ext = file_name.rstrip('.txt')\n",
    "                 \n",
    "        file_path = Path(f'{text_path}/{file_name}')\n",
    "        full_text = file_path.read_text()\n",
    "\n",
    "        with open(f'{text_path}/{file_name}') as file:\n",
    "            file_json = json.load(file)\n",
    "            \n",
    "        #print(len(file_json['sentences']))\n",
    "        \n",
    "        print(\"Processing: \", file_name_no_ext)\n",
    "        #T105\tFARMACO 911 922\tazatioprina\n",
    "\n",
    "        if not is_test:\n",
    "            annotations = pd.read_csv(f'{annotations_path}/{file_name_no_ext}.ann', sep='\\t', \n",
    "                                      names=['ann_type', 'entity_type', 'text'], encoding='utf-8', keep_default_na=False)\n",
    "\n",
    "            # drop annotator comments\n",
    "            annotations.drop(annotations[annotations['ann_type'].str.startswith('#')].index, inplace=True)\n",
    "\n",
    "            annotations['start_pos'] = annotations['entity_type'].apply(lambda v: int(v.split()[1]))\n",
    "            annotations['end_pos'] = annotations['entity_type'].apply(lambda v: int(v.split()[2]))\n",
    "            annotations['entity_type'] = annotations['entity_type'].apply(lambda v: v.split()[0])\n",
    "            annotations.sort_values(by=['start_pos'], inplace=True, ignore_index=True)\n",
    "        else:\n",
    "            annotations = pd.DataFrame(columns=['ann_type', 'text'])\n",
    "            \n",
    "        total_chars = 0\n",
    "        annotation_index = 0\n",
    "        total_annotations = len(annotations)\n",
    "        line_number = 0\n",
    "        batch = []\n",
    "        batch_number = 0\n",
    "        for line in file_json['sentences']:\n",
    "            line_number += 1\n",
    "            batch.append(line['text'])\n",
    "\n",
    "            if line_number % sents_per_batch == 0:\n",
    "                batch_number += 1\n",
    "                current_batch_annotation_indecies = []\n",
    "                text = ''.join(batch)\n",
    "                #max_index = total_chars + len(text) # - 1;\n",
    "                #max_index = total_chars + full_text[total_chars:].find(text) + len(text) - 1\n",
    "                batch_start = line['characterOffsetBegin'] #total_chars + full_text[total_chars:].find(text.strip()) #+ len(text) - 1\n",
    "                batch_end = line['characterOffsetEnd'] # batch_start + len(text) - 1\n",
    "                #print(text, batch_start, batch_end)\n",
    "                if batch_start < 0:\n",
    "                    print('batch_start', full_text[total_chars:], text, total_chars)\n",
    "                \n",
    "                while annotation_index < total_annotations and annotations.iloc[annotation_index]['start_pos'] >= batch_start and annotations.iloc[annotation_index]['start_pos'] < batch_end:\n",
    "                    annotation_text = str(annotations.iloc[annotation_index]['text'])\n",
    "                    #print(annotation_text)\n",
    "                    #new_start_pos = text.find(annotation_text)\n",
    "                    new_start_pos = annotations.iloc[annotation_index]['start_pos'] - batch_start\n",
    "                    \n",
    "                    if new_start_pos < 0:\n",
    "                        print('new_start_pos', text, annotation_text, batch_number, max_index)\n",
    "                        \n",
    "                    annotations.at[annotation_index, 'start_pos'] = new_start_pos\n",
    "                    annotations.at[annotation_index, 'end_pos'] = new_start_pos + len(annotation_text)\n",
    "                    current_batch_annotation_indecies.append(annotation_index)\n",
    "                    annotation_index += 1\n",
    "\n",
    "                format_batch_number = str(batch_number).zfill(3)\n",
    "                with open(f'{output_path}/splits_{sents_per_batch}/{file_name_no_ext}-b-{format_batch_number}-{batch_start}.txt', 'w', encoding='utf-8') as out_file:\n",
    "                    out_file.write(text)\n",
    "\n",
    "                # file_name_no_ext, batch_number, batch_start, text\n",
    "                sentences.append({\n",
    "                    'filename': file_name_no_ext,\n",
    "                    'batch_number': batch_number,\n",
    "                    'batch_start': batch_start,\n",
    "                    'text': text\n",
    "                })\n",
    "                \n",
    "                current_batch_annotations = annotations.iloc[current_batch_annotation_indecies,].copy().reset_index(drop=True)\n",
    "                current_batch_annotations['entity_type_with_positions'] = None\n",
    "                if not current_batch_annotations.empty:\n",
    "                    current_batch_annotations['row_name'] = current_batch_annotations.apply(lambda row: row.name + 1, axis=1)\n",
    "                    current_batch_annotations['ann_type'] = current_batch_annotations.apply(lambda row: f'{row[\"ann_type\"].rstrip(\"0123456789\")}{row.name + 1}', axis=1)\n",
    "                    current_batch_annotations['entity_type_with_positions'] = current_batch_annotations.apply(lambda row: f'{row[\"entity_type\"]} {row[\"start_pos\"]} {row[\"end_pos\"]}', axis=1)\n",
    "                    current_batch_annotations.drop(columns=['start_pos', 'end_pos', 'entity_type'], inplace=True)\n",
    "\n",
    "                current_batch_annotations.to_csv(f'{output_path}/splits_{sents_per_batch}/{file_name_no_ext}-b-{format_batch_number}-{batch_start}.ann', sep='\\t', header=False, index=False, columns=['ann_type', 'entity_type_with_positions', 'text'], encoding='utf-8')\n",
    "\n",
    "                total_chars = batch_end #len(text) # -1\n",
    "                batch.clear()\n",
    "                \n",
    "        if annotation_index < total_annotations:\n",
    "            print('missing annotations')"
   ]
  },
  {
   "cell_type": "code",
   "execution_count": 5,
   "metadata": {},
   "outputs": [
    {
     "data": {
      "text/html": [
       "<div>\n",
       "<style scoped>\n",
       "    .dataframe tbody tr th:only-of-type {\n",
       "        vertical-align: middle;\n",
       "    }\n",
       "\n",
       "    .dataframe tbody tr th {\n",
       "        vertical-align: top;\n",
       "    }\n",
       "\n",
       "    .dataframe thead th {\n",
       "        text-align: right;\n",
       "    }\n",
       "</style>\n",
       "<table border=\"1\" class=\"dataframe\">\n",
       "  <thead>\n",
       "    <tr style=\"text-align: right;\">\n",
       "      <th></th>\n",
       "      <th>filename</th>\n",
       "      <th>batch_number</th>\n",
       "      <th>batch_start</th>\n",
       "      <th>text</th>\n",
       "    </tr>\n",
       "  </thead>\n",
       "  <tbody>\n",
       "    <tr>\n",
       "      <th>0</th>\n",
       "      <td>casos_clinicos_cardiologia10</td>\n",
       "      <td>1</td>\n",
       "      <td>0</td>\n",
       "      <td>Anamnesi\\nUomo, 79 anni.</td>\n",
       "    </tr>\n",
       "    <tr>\n",
       "      <th>1</th>\n",
       "      <td>casos_clinicos_cardiologia10</td>\n",
       "      <td>2</td>\n",
       "      <td>24</td>\n",
       "      <td>Autosufficiente.</td>\n",
       "    </tr>\n",
       "    <tr>\n",
       "      <th>2</th>\n",
       "      <td>casos_clinicos_cardiologia10</td>\n",
       "      <td>3</td>\n",
       "      <td>41</td>\n",
       "      <td>Di Salto.</td>\n",
       "    </tr>\n",
       "    <tr>\n",
       "      <th>3</th>\n",
       "      <td>casos_clinicos_cardiologia10</td>\n",
       "      <td>4</td>\n",
       "      <td>51</td>\n",
       "      <td>Anamnesi: -Ipertensione arteriosa cronica.</td>\n",
       "    </tr>\n",
       "    <tr>\n",
       "      <th>4</th>\n",
       "      <td>casos_clinicos_cardiologia10</td>\n",
       "      <td>5</td>\n",
       "      <td>94</td>\n",
       "      <td>Ex fumatore.</td>\n",
       "    </tr>\n",
       "  </tbody>\n",
       "</table>\n",
       "</div>"
      ],
      "text/plain": [
       "                       filename  batch_number  batch_start  \\\n",
       "0  casos_clinicos_cardiologia10             1            0   \n",
       "1  casos_clinicos_cardiologia10             2           24   \n",
       "2  casos_clinicos_cardiologia10             3           41   \n",
       "3  casos_clinicos_cardiologia10             4           51   \n",
       "4  casos_clinicos_cardiologia10             5           94   \n",
       "\n",
       "                                         text  \n",
       "0                    Anamnesi\\nUomo, 79 anni.  \n",
       "1                            Autosufficiente.  \n",
       "2                                   Di Salto.  \n",
       "3  Anamnesi: -Ipertensione arteriosa cronica.  \n",
       "4                                Ex fumatore.  "
      ]
     },
     "execution_count": 5,
     "metadata": {},
     "output_type": "execute_result"
    }
   ],
   "source": [
    "df_sentences = pd.DataFrame.from_records(sentences)\n",
    "df_sentences.head()"
   ]
  },
  {
   "cell_type": "code",
   "execution_count": 6,
   "metadata": {},
   "outputs": [
    {
     "data": {
      "text/plain": [
       "(17513, 4)"
      ]
     },
     "execution_count": 6,
     "metadata": {},
     "output_type": "execute_result"
    }
   ],
   "source": [
    "df_sentences.shape"
   ]
  },
  {
   "cell_type": "code",
   "execution_count": 7,
   "metadata": {},
   "outputs": [],
   "source": [
    "df_sentences.to_csv(f'{output_path}/sentences.tsv', sep='\\t', index=False)"
   ]
  },
  {
   "cell_type": "code",
   "execution_count": null,
   "metadata": {},
   "outputs": [],
   "source": []
  }
 ],
 "metadata": {
  "colab": {
   "gpuType": "A100",
   "provenance": []
  },
  "gpuClass": "standard",
  "kernelspec": {
   "display_name": "Python 3 (ipykernel)",
   "language": "python",
   "name": "python3"
  },
  "language_info": {
   "codemirror_mode": {
    "name": "ipython",
    "version": 3
   },
   "file_extension": ".py",
   "mimetype": "text/x-python",
   "name": "python",
   "nbconvert_exporter": "python",
   "pygments_lexer": "ipython3",
   "version": "3.10.12"
  },
  "toc": {
   "base_numbering": 1,
   "nav_menu": {},
   "number_sections": true,
   "sideBar": true,
   "skip_h1_title": false,
   "title_cell": "Table of Contents",
   "title_sidebar": "Contents",
   "toc_cell": false,
   "toc_position": {},
   "toc_section_display": true,
   "toc_window_display": false
  },
  "varInspector": {
   "cols": {
    "lenName": 16,
    "lenType": 16,
    "lenVar": 40
   },
   "kernels_config": {
    "python": {
     "delete_cmd_postfix": "",
     "delete_cmd_prefix": "del ",
     "library": "var_list.py",
     "varRefreshCmd": "print(var_dic_list())"
    },
    "r": {
     "delete_cmd_postfix": ") ",
     "delete_cmd_prefix": "rm(",
     "library": "var_list.r",
     "varRefreshCmd": "cat(var_dic_list()) "
    }
   },
   "types_to_exclude": [
    "module",
    "function",
    "builtin_function_or_method",
    "instance",
    "_Feature"
   ],
   "window_display": false
  }
 },
 "nbformat": 4,
 "nbformat_minor": 1
}
