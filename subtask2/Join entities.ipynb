{
 "cells": [
  {
   "cell_type": "code",
   "execution_count": 1,
   "id": "9462cffd",
   "metadata": {},
   "outputs": [],
   "source": [
    "import pandas as pd"
   ]
  },
  {
   "cell_type": "code",
   "execution_count": 2,
   "id": "4bfa1615",
   "metadata": {},
   "outputs": [],
   "source": [
    "lang = 'it'\n",
    "#true_mentions_file = f'output/multicardioner_track2_cardioccc_dev_{lang}.tsv'\n",
    "mentions_file = f'output/multicardioner_track2_cardioccc_dev_it_predictions.tsv'\n",
    "result_mentions_file = f'output/multicardioner_track2_cardioccc_dev_it_predictions_joined.tsv'"
   ]
  },
  {
   "cell_type": "code",
   "execution_count": 3,
   "id": "441fec29",
   "metadata": {},
   "outputs": [
    {
     "data": {
      "text/html": [
       "<div>\n",
       "<style scoped>\n",
       "    .dataframe tbody tr th:only-of-type {\n",
       "        vertical-align: middle;\n",
       "    }\n",
       "\n",
       "    .dataframe tbody tr th {\n",
       "        vertical-align: top;\n",
       "    }\n",
       "\n",
       "    .dataframe thead th {\n",
       "        text-align: right;\n",
       "    }\n",
       "</style>\n",
       "<table border=\"1\" class=\"dataframe\">\n",
       "  <thead>\n",
       "    <tr style=\"text-align: right;\">\n",
       "      <th></th>\n",
       "      <th>filename</th>\n",
       "      <th>label</th>\n",
       "      <th>start_span</th>\n",
       "      <th>end_span</th>\n",
       "      <th>text</th>\n",
       "    </tr>\n",
       "  </thead>\n",
       "  <tbody>\n",
       "    <tr>\n",
       "      <th>0</th>\n",
       "      <td>casos_clinicos_cardiologia10</td>\n",
       "      <td>FARMACO</td>\n",
       "      <td>2557</td>\n",
       "      <td>2569</td>\n",
       "      <td>Cefazolina2g</td>\n",
       "    </tr>\n",
       "    <tr>\n",
       "      <th>1</th>\n",
       "      <td>casos_clinicos_cardiologia10</td>\n",
       "      <td>FARMACO</td>\n",
       "      <td>2581</td>\n",
       "      <td>2592</td>\n",
       "      <td>gentamicina</td>\n",
       "    </tr>\n",
       "    <tr>\n",
       "      <th>2</th>\n",
       "      <td>casos_clinicos_cardiologia10</td>\n",
       "      <td>FARMACO</td>\n",
       "      <td>2608</td>\n",
       "      <td>2619</td>\n",
       "      <td>rifampicina</td>\n",
       "    </tr>\n",
       "    <tr>\n",
       "      <th>3</th>\n",
       "      <td>casos_clinicos_cardiologia10</td>\n",
       "      <td>FARMACO</td>\n",
       "      <td>3265</td>\n",
       "      <td>3274</td>\n",
       "      <td>amikacina</td>\n",
       "    </tr>\n",
       "    <tr>\n",
       "      <th>4</th>\n",
       "      <td>casos_clinicos_cardiologia10</td>\n",
       "      <td>FARMACO</td>\n",
       "      <td>3280</td>\n",
       "      <td>3291</td>\n",
       "      <td>vancomicina</td>\n",
       "    </tr>\n",
       "  </tbody>\n",
       "</table>\n",
       "</div>"
      ],
      "text/plain": [
       "                       filename    label  start_span  end_span          text\n",
       "0  casos_clinicos_cardiologia10  FARMACO        2557      2569  Cefazolina2g\n",
       "1  casos_clinicos_cardiologia10  FARMACO        2581      2592   gentamicina\n",
       "2  casos_clinicos_cardiologia10  FARMACO        2608      2619   rifampicina\n",
       "3  casos_clinicos_cardiologia10  FARMACO        3265      3274     amikacina\n",
       "4  casos_clinicos_cardiologia10  FARMACO        3280      3291   vancomicina"
      ]
     },
     "execution_count": 3,
     "metadata": {},
     "output_type": "execute_result"
    }
   ],
   "source": [
    "df_mentions = pd.read_csv(mentions_file, sep='\\t', header=0, index_col=False, keep_default_na=False)\n",
    "df_mentions.head()"
   ]
  },
  {
   "cell_type": "code",
   "execution_count": 4,
   "id": "64f6128f",
   "metadata": {},
   "outputs": [],
   "source": [
    "# combine predictions if separated by + or /"
   ]
  },
  {
   "cell_type": "code",
   "execution_count": 5,
   "id": "64d5d7f9",
   "metadata": {},
   "outputs": [
    {
     "data": {
      "text/html": [
       "<div>\n",
       "<style scoped>\n",
       "    .dataframe tbody tr th:only-of-type {\n",
       "        vertical-align: middle;\n",
       "    }\n",
       "\n",
       "    .dataframe tbody tr th {\n",
       "        vertical-align: top;\n",
       "    }\n",
       "\n",
       "    .dataframe thead th {\n",
       "        text-align: right;\n",
       "    }\n",
       "</style>\n",
       "<table border=\"1\" class=\"dataframe\">\n",
       "  <thead>\n",
       "    <tr style=\"text-align: right;\">\n",
       "      <th></th>\n",
       "      <th>filename</th>\n",
       "      <th>batch_number</th>\n",
       "      <th>batch_start</th>\n",
       "      <th>text</th>\n",
       "    </tr>\n",
       "  </thead>\n",
       "  <tbody>\n",
       "    <tr>\n",
       "      <th>0</th>\n",
       "      <td>casos_clinicos_cardiologia10</td>\n",
       "      <td>1</td>\n",
       "      <td>0</td>\n",
       "      <td>Anamnesi\\nUomo, 79 anni.</td>\n",
       "    </tr>\n",
       "    <tr>\n",
       "      <th>1</th>\n",
       "      <td>casos_clinicos_cardiologia10</td>\n",
       "      <td>2</td>\n",
       "      <td>24</td>\n",
       "      <td>Autosufficiente.</td>\n",
       "    </tr>\n",
       "    <tr>\n",
       "      <th>2</th>\n",
       "      <td>casos_clinicos_cardiologia10</td>\n",
       "      <td>3</td>\n",
       "      <td>41</td>\n",
       "      <td>Di Salto.</td>\n",
       "    </tr>\n",
       "    <tr>\n",
       "      <th>3</th>\n",
       "      <td>casos_clinicos_cardiologia10</td>\n",
       "      <td>4</td>\n",
       "      <td>51</td>\n",
       "      <td>Anamnesi: -Ipertensione arteriosa cronica.</td>\n",
       "    </tr>\n",
       "    <tr>\n",
       "      <th>4</th>\n",
       "      <td>casos_clinicos_cardiologia10</td>\n",
       "      <td>5</td>\n",
       "      <td>94</td>\n",
       "      <td>Ex fumatore.</td>\n",
       "    </tr>\n",
       "  </tbody>\n",
       "</table>\n",
       "</div>"
      ],
      "text/plain": [
       "                       filename  batch_number  batch_start  \\\n",
       "0  casos_clinicos_cardiologia10             1            0   \n",
       "1  casos_clinicos_cardiologia10             2           24   \n",
       "2  casos_clinicos_cardiologia10             3           41   \n",
       "3  casos_clinicos_cardiologia10             4           51   \n",
       "4  casos_clinicos_cardiologia10             5           94   \n",
       "\n",
       "                                         text  \n",
       "0                    Anamnesi\\nUomo, 79 anni.  \n",
       "1                            Autosufficiente.  \n",
       "2                                   Di Salto.  \n",
       "3  Anamnesi: -Ipertensione arteriosa cronica.  \n",
       "4                                Ex fumatore.  "
      ]
     },
     "execution_count": 5,
     "metadata": {},
     "output_type": "execute_result"
    }
   ],
   "source": [
    "df_sentences = pd.read_csv(f'data/custom_dataset_track2_{lang}/dev_sentences.tsv', sep='\\t', keep_default_na=False)\n",
    "df_sentences.head()"
   ]
  },
  {
   "cell_type": "code",
   "execution_count": 6,
   "id": "afde9f97",
   "metadata": {},
   "outputs": [],
   "source": [
    "filenames = list(df_mentions['filename'].unique())\n",
    "# sort by file, start, end\n",
    "df_mentions = df_mentions.sort_values(['filename', 'start_span', 'end_span'])"
   ]
  },
  {
   "cell_type": "code",
   "execution_count": 7,
   "id": "b33998d0",
   "metadata": {},
   "outputs": [],
   "source": [
    "def combine_entities(current_ents, sentence, sentence_start):\n",
    "    if len(current_ents) == 1:\n",
    "        return current_ents[0]\n",
    "    # else combine entities\n",
    "    entity = current_ents[0]\n",
    "    entity['end_span'] = current_ents[-1]['end_span']\n",
    "    entity['text'] = sentence[entity['start_span']-sentence_start:entity['end_span']-sentence_start]\n",
    "    return entity"
   ]
  },
  {
   "cell_type": "code",
   "execution_count": 8,
   "id": "af9a21b2",
   "metadata": {},
   "outputs": [],
   "source": [
    "def get_current_sentence(start, file_sentences):\n",
    "    #row['start_span'], file_sentences\n",
    "    current = file_sentences[file_sentences['batch_start'] <= start].iloc[-1]\n",
    "    #print(current)\n",
    "    return current['batch_start'], current['text']        "
   ]
  },
  {
   "cell_type": "code",
   "execution_count": 9,
   "id": "29209d96",
   "metadata": {},
   "outputs": [
    {
     "data": {
      "text/plain": [
       "(107,\n",
       " '-Diabete mellito di tipo 2 con ripercussioni macro e microvascolari (cardiopatia ischemica, arteriopatia del MMII con amputazione di entrambi gli alluci, malattia renale cronica, retinopatia diabetica).')"
      ]
     },
     "execution_count": 9,
     "metadata": {},
     "output_type": "execute_result"
    }
   ],
   "source": [
    "file_sentences = df_sentences[df_sentences['filename'] == 'casos_clinicos_cardiologia10']\n",
    "sent = get_current_sentence(191, file_sentences)\n",
    "sent"
   ]
  },
  {
   "cell_type": "code",
   "execution_count": 10,
   "id": "48368d6c",
   "metadata": {},
   "outputs": [],
   "source": [
    "joined_mentions = []\n",
    "\n",
    "for file in filenames:\n",
    "    file_mentions = df_mentions[df_mentions['filename'] == file]\n",
    "    file_sentences = df_sentences[df_sentences['filename'] == file]\n",
    "    current_entries = []\n",
    "    current_sentence_start = 0\n",
    "    current_sentence_end = -1\n",
    "    current_sentence_text = ''\n",
    "    for index, row in file_mentions.iterrows():       \n",
    "        if row['start_span'] > current_sentence_end:\n",
    "            # get next sentence\n",
    "            if len(current_entries) > 0:\n",
    "                joined_mentions.append(combine_entities(current_entries, current_sentence_text, current_sentence_start))\n",
    "                current_entries.clear()\n",
    "            current_sentence_start, current_sentence_text = get_current_sentence(row['start_span'], file_sentences)\n",
    "            current_sentence_end = current_sentence_start + len(current_sentence_text.rstrip())\n",
    "        \n",
    "        # if row in the same sentence\n",
    "        if len(current_entries) == 0:\n",
    "            current_entries.append(row)\n",
    "        else:            \n",
    "        # foreach consecutive pair - if end of first == start of second or if the only char between is +/ or whitespace\n",
    "        # 2 or more consecutive entries - add new entry, once the next non-consecutive entity is found + at the end            \n",
    "            if row['start_span'] - current_entries[-1]['end_span'] == 0:\n",
    "                current_entries.append(row)\n",
    "            else:\n",
    "                text_between = current_sentence_text[current_entries[-1]['end_span']-current_sentence_start:row['start_span']-current_sentence_start]\n",
    "\n",
    "                if text_between.strip() == '+' or text_between == '/':\n",
    "                    current_entries.append(row)\n",
    "                else:\n",
    "                    # disjoint entities\n",
    "                    joined_mentions.append(combine_entities(current_entries, current_sentence_text, current_sentence_start))\n",
    "                    current_entries.clear()\n",
    "                    current_entries.append(row)\n",
    "    \n",
    "    if len(current_entries) > 0:\n",
    "        joined_mentions.append(combine_entities(current_entries, current_sentence_text, current_sentence_start))\n",
    "        current_entries.clear()                "
   ]
  },
  {
   "cell_type": "code",
   "execution_count": 11,
   "id": "540a63a0",
   "metadata": {},
   "outputs": [],
   "source": [
    "df_joined_mentions = pd.DataFrame.from_records(joined_mentions)"
   ]
  },
  {
   "cell_type": "code",
   "execution_count": 12,
   "id": "f0231594",
   "metadata": {},
   "outputs": [
    {
     "data": {
      "text/html": [
       "<div>\n",
       "<style scoped>\n",
       "    .dataframe tbody tr th:only-of-type {\n",
       "        vertical-align: middle;\n",
       "    }\n",
       "\n",
       "    .dataframe tbody tr th {\n",
       "        vertical-align: top;\n",
       "    }\n",
       "\n",
       "    .dataframe thead th {\n",
       "        text-align: right;\n",
       "    }\n",
       "</style>\n",
       "<table border=\"1\" class=\"dataframe\">\n",
       "  <thead>\n",
       "    <tr style=\"text-align: right;\">\n",
       "      <th></th>\n",
       "      <th>filename</th>\n",
       "      <th>label</th>\n",
       "      <th>start_span</th>\n",
       "      <th>end_span</th>\n",
       "      <th>text</th>\n",
       "    </tr>\n",
       "  </thead>\n",
       "  <tbody>\n",
       "    <tr>\n",
       "      <th>0</th>\n",
       "      <td>casos_clinicos_cardiologia10</td>\n",
       "      <td>FARMACO</td>\n",
       "      <td>2557</td>\n",
       "      <td>2569</td>\n",
       "      <td>Cefazolina2g</td>\n",
       "    </tr>\n",
       "    <tr>\n",
       "      <th>1</th>\n",
       "      <td>casos_clinicos_cardiologia10</td>\n",
       "      <td>FARMACO</td>\n",
       "      <td>2581</td>\n",
       "      <td>2592</td>\n",
       "      <td>gentamicina</td>\n",
       "    </tr>\n",
       "    <tr>\n",
       "      <th>2</th>\n",
       "      <td>casos_clinicos_cardiologia10</td>\n",
       "      <td>FARMACO</td>\n",
       "      <td>2608</td>\n",
       "      <td>2619</td>\n",
       "      <td>rifampicina</td>\n",
       "    </tr>\n",
       "    <tr>\n",
       "      <th>3</th>\n",
       "      <td>casos_clinicos_cardiologia10</td>\n",
       "      <td>FARMACO</td>\n",
       "      <td>3265</td>\n",
       "      <td>3274</td>\n",
       "      <td>amikacina</td>\n",
       "    </tr>\n",
       "    <tr>\n",
       "      <th>4</th>\n",
       "      <td>casos_clinicos_cardiologia10</td>\n",
       "      <td>FARMACO</td>\n",
       "      <td>3280</td>\n",
       "      <td>3291</td>\n",
       "      <td>vancomicina</td>\n",
       "    </tr>\n",
       "  </tbody>\n",
       "</table>\n",
       "</div>"
      ],
      "text/plain": [
       "                       filename    label  start_span  end_span          text\n",
       "0  casos_clinicos_cardiologia10  FARMACO        2557      2569  Cefazolina2g\n",
       "1  casos_clinicos_cardiologia10  FARMACO        2581      2592   gentamicina\n",
       "2  casos_clinicos_cardiologia10  FARMACO        2608      2619   rifampicina\n",
       "3  casos_clinicos_cardiologia10  FARMACO        3265      3274     amikacina\n",
       "4  casos_clinicos_cardiologia10  FARMACO        3280      3291   vancomicina"
      ]
     },
     "execution_count": 12,
     "metadata": {},
     "output_type": "execute_result"
    }
   ],
   "source": [
    "df_joined_mentions.head()"
   ]
  },
  {
   "cell_type": "code",
   "execution_count": 13,
   "id": "7ebdf27f",
   "metadata": {},
   "outputs": [],
   "source": [
    "df_joined_mentions['remove'] = df_joined_mentions['text'].apply(lambda x: x.strip() == ',' or x.strip() == '%')"
   ]
  },
  {
   "cell_type": "code",
   "execution_count": 14,
   "id": "ca216f4b",
   "metadata": {},
   "outputs": [],
   "source": [
    "df_joined_mentions = df_joined_mentions[~df_joined_mentions['remove']]"
   ]
  },
  {
   "cell_type": "code",
   "execution_count": 15,
   "id": "6d774c0c",
   "metadata": {},
   "outputs": [],
   "source": [
    "df_joined_mentions[['filename', 'label', 'start_span', 'end_span', 'text']].to_csv(result_mentions_file, sep='\\t', index=False)"
   ]
  },
  {
   "cell_type": "code",
   "execution_count": 16,
   "id": "28c79608",
   "metadata": {},
   "outputs": [
    {
     "data": {
      "text/plain": [
       "(2642, 5)"
      ]
     },
     "execution_count": 16,
     "metadata": {},
     "output_type": "execute_result"
    }
   ],
   "source": [
    "df_mentions.shape"
   ]
  },
  {
   "cell_type": "code",
   "execution_count": 17,
   "id": "212f98c6",
   "metadata": {},
   "outputs": [
    {
     "data": {
      "text/plain": [
       "(2512, 6)"
      ]
     },
     "execution_count": 17,
     "metadata": {},
     "output_type": "execute_result"
    }
   ],
   "source": [
    "df_joined_mentions.shape"
   ]
  },
  {
   "cell_type": "code",
   "execution_count": null,
   "id": "a0d0842f",
   "metadata": {},
   "outputs": [],
   "source": [
    "#|0.903|0.9008|0.9019 - en\n",
    "# |0.9228|0.9139|0.9183 - es\n"
   ]
  }
 ],
 "metadata": {
  "kernelspec": {
   "display_name": "Python 3 (ipykernel)",
   "language": "python",
   "name": "python3"
  },
  "language_info": {
   "codemirror_mode": {
    "name": "ipython",
    "version": 3
   },
   "file_extension": ".py",
   "mimetype": "text/x-python",
   "name": "python",
   "nbconvert_exporter": "python",
   "pygments_lexer": "ipython3",
   "version": "3.10.12"
  }
 },
 "nbformat": 4,
 "nbformat_minor": 5
}
