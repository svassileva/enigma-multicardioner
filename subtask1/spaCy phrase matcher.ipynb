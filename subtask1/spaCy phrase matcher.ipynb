{
 "cells": [
  {
   "cell_type": "code",
   "execution_count": 26,
   "id": "35b3f207",
   "metadata": {},
   "outputs": [],
   "source": [
    "import spacy\n",
    "import pandas as pd\n",
    "from spacy.matcher import PhraseMatcher\n"
   ]
  },
  {
   "cell_type": "code",
   "execution_count": 17,
   "id": "b681d46b",
   "metadata": {},
   "outputs": [],
   "source": [
    "nlp = spacy.blank(\"es\")"
   ]
  },
  {
   "cell_type": "code",
   "execution_count": 28,
   "id": "a9807d23",
   "metadata": {},
   "outputs": [
    {
     "data": {
      "text/html": [
       "<div>\n",
       "<style scoped>\n",
       "    .dataframe tbody tr th:only-of-type {\n",
       "        vertical-align: middle;\n",
       "    }\n",
       "\n",
       "    .dataframe tbody tr th {\n",
       "        vertical-align: top;\n",
       "    }\n",
       "\n",
       "    .dataframe thead th {\n",
       "        text-align: right;\n",
       "    }\n",
       "</style>\n",
       "<table border=\"1\" class=\"dataframe\">\n",
       "  <thead>\n",
       "    <tr style=\"text-align: right;\">\n",
       "      <th></th>\n",
       "      <th>code</th>\n",
       "      <th>term</th>\n",
       "    </tr>\n",
       "  </thead>\n",
       "  <tbody>\n",
       "    <tr>\n",
       "      <th>0</th>\n",
       "      <td>9989000</td>\n",
       "      <td>anomalía congénita de dedo del pie</td>\n",
       "    </tr>\n",
       "    <tr>\n",
       "      <th>1</th>\n",
       "      <td>9989000</td>\n",
       "      <td>malformación congénita de dedo del pie</td>\n",
       "    </tr>\n",
       "    <tr>\n",
       "      <th>2</th>\n",
       "      <td>9984005</td>\n",
       "      <td>exfoliación de dientes por enfermedad sistémica</td>\n",
       "    </tr>\n",
       "    <tr>\n",
       "      <th>3</th>\n",
       "      <td>9982009</td>\n",
       "      <td>intoxicación causada por cocaína</td>\n",
       "    </tr>\n",
       "    <tr>\n",
       "      <th>4</th>\n",
       "      <td>998008</td>\n",
       "      <td>enfermedad de Chagas con compromiso del corazón</td>\n",
       "    </tr>\n",
       "  </tbody>\n",
       "</table>\n",
       "</div>"
      ],
      "text/plain": [
       "      code                                             term\n",
       "0  9989000               anomalía congénita de dedo del pie\n",
       "1  9989000           malformación congénita de dedo del pie\n",
       "2  9984005  exfoliación de dientes por enfermedad sistémica\n",
       "3  9982009                 intoxicación causada por cocaína\n",
       "4   998008  enfermedad de Chagas con compromiso del corazón"
      ]
     },
     "execution_count": 28,
     "metadata": {},
     "output_type": "execute_result"
    }
   ],
   "source": [
    "df_gazetteer = pd.read_csv('data/distemist_gazeteer_umls_spanish.tsv', sep='\\t')\n",
    "df_gazetteer.head()"
   ]
  },
  {
   "cell_type": "code",
   "execution_count": 33,
   "id": "e66b84e8",
   "metadata": {},
   "outputs": [],
   "source": [
    "gazetteer_list = list(df_gazetteer['term'].values)\n",
    "gazetteer_codes = list(df_gazetteer['code'].values)"
   ]
  },
  {
   "cell_type": "code",
   "execution_count": 41,
   "id": "5be5481a",
   "metadata": {},
   "outputs": [
    {
     "data": {
      "text/plain": [
       "285930"
      ]
     },
     "execution_count": 41,
     "metadata": {},
     "output_type": "execute_result"
    }
   ],
   "source": [
    "len(gazetteer_list)"
   ]
  },
  {
   "cell_type": "code",
   "execution_count": 39,
   "id": "344ec21c",
   "metadata": {},
   "outputs": [],
   "source": [
    "matcher = PhraseMatcher(nlp.vocab)\n",
    "label = 'ENFERMEDAD'\n",
    "\n",
    "for code, text, doc in zip(gazetteer_codes, gazetteer_list, nlp.tokenizer.pipe(gazetteer_list)):\n",
    "    matcher.add(f'{code}_{text}', None, doc)"
   ]
  },
  {
   "cell_type": "code",
   "execution_count": 40,
   "id": "4fabe04a",
   "metadata": {},
   "outputs": [
    {
     "data": {
      "text/plain": [
       "285930"
      ]
     },
     "execution_count": 40,
     "metadata": {},
     "output_type": "execute_result"
    }
   ],
   "source": [
    "len(matcher)"
   ]
  },
  {
   "cell_type": "code",
   "execution_count": 45,
   "id": "d0d0b234",
   "metadata": {},
   "outputs": [],
   "source": [
    "text = \"Los antecedentes personales de este paciente son: Independiente para actividades básicas de la vida diaria (ABVD). Fumador. Hipertensión arterial (HTA), dislipemia, diabetes mellitus tipo 2 en tratamiento con antidiabéticos orales (ADO). Enfermedad renal crónica (ERC) estadio 3A. Enfermedad pulmonar obstructiva crónica (EPOC) grave.\""
   ]
  },
  {
   "cell_type": "code",
   "execution_count": 46,
   "id": "8d9beb33",
   "metadata": {},
   "outputs": [],
   "source": [
    "doc = nlp(text)\n",
    "matches = matcher(doc, as_spans=True)"
   ]
  },
  {
   "cell_type": "code",
   "execution_count": 54,
   "id": "5eec2065",
   "metadata": {},
   "outputs": [],
   "source": [
    "from spacy.util import filter_spans\n",
    "\n",
    "filtered_matches = filter_spans(matches)"
   ]
  },
  {
   "cell_type": "code",
   "execution_count": 55,
   "id": "e7a210de",
   "metadata": {},
   "outputs": [
    {
     "name": "stdout",
     "output_type": "stream",
     "text": [
      "Fumador 115 122\n",
      "Hipertensión arterial 124 145\n",
      "diabetes mellitus tipo 2 165 189\n",
      "Enfermedad renal crónica 238 262\n",
      "Enfermedad pulmonar obstructiva crónica 281 320\n",
      "EPOC 322 326\n"
     ]
    }
   ],
   "source": [
    "for match in filtered_matches:\n",
    "    print(doc[match.start:match.end], doc[match.start].idx, doc[match.end-1].idx + len(doc[match.end-1]))"
   ]
  },
  {
   "cell_type": "code",
   "execution_count": 56,
   "id": "883f666e",
   "metadata": {},
   "outputs": [],
   "source": [
    "import pickle\n",
    "\n",
    "with open('data/diseases.pickle', 'wb') as handle:\n",
    "    pickle.dump(matcher, handle, protocol=pickle.HIGHEST_PROTOCOL)"
   ]
  },
  {
   "cell_type": "code",
   "execution_count": 50,
   "id": "b74db0b2",
   "metadata": {},
   "outputs": [],
   "source": [
    "# test load\n",
    "with open('data/diseases.pickle', 'rb') as handle:\n",
    "    matcher2 = pickle.load(handle)"
   ]
  },
  {
   "cell_type": "code",
   "execution_count": 68,
   "id": "d32fd7e1",
   "metadata": {},
   "outputs": [
    {
     "name": "stdout",
     "output_type": "stream",
     "text": [
      "[(5339602756129875399, 1, 3)]\n"
     ]
    }
   ],
   "source": [
    "nlp2 = spacy.blank(\"es\", vocab=matcher2.vocab) # vocab from reloaded PhraseMatcher\n",
    "\n",
    "print(matcher2(nlp(\"Explica dolor abdominal de 2 setmanes d’evolució i basques sense vòmits, es programa visita presencial per a l’endemà.\")))"
   ]
  },
  {
   "cell_type": "code",
   "execution_count": null,
   "id": "61c7e23d",
   "metadata": {},
   "outputs": [],
   "source": []
  }
 ],
 "metadata": {
  "kernelspec": {
   "display_name": "Python 3 (ipykernel)",
   "language": "python",
   "name": "python3"
  },
  "language_info": {
   "codemirror_mode": {
    "name": "ipython",
    "version": 3
   },
   "file_extension": ".py",
   "mimetype": "text/x-python",
   "name": "python",
   "nbconvert_exporter": "python",
   "pygments_lexer": "ipython3",
   "version": "3.10.12"
  }
 },
 "nbformat": 4,
 "nbformat_minor": 5
}
